{
 "cells": [
  {
   "cell_type": "code",
   "execution_count": 10,
   "metadata": {},
   "outputs": [],
   "source": [
    "\n",
    "from models.cycle_gan_model import CycleGANModel"
   ]
  },
  {
   "cell_type": "code",
   "execution_count": 80,
   "metadata": {},
   "outputs": [],
   "source": [
    "class opt:\n",
    "    def __init__(self):\n",
    "        self.input_nc = 3\n",
    "        self.gpu_ids = [0]\n",
    "        self.isTrain = True\n",
    "        self.checkpoints_dir = \"./saved_models\"\n",
    "        self.name = \"test_cyclegan/\"\n",
    "        self.resize_or_crop = \"resize_and_crop\"\n",
    "        self.lambda_identity = 0.5\n",
    "        self.lambda_A = 10.0\n",
    "        self.lambda_B = 10.0\n",
    "        self.output_nc = 3\n",
    "        self.ngf = 64\n",
    "        self.netG = 'resnet_fpn'\n",
    "        self.norm = 'instance'\n",
    "        self.no_dropout = False\n",
    "        self.init_type  = 'normal'\n",
    "        self.init_gain = 0.02\n",
    "        self.fpn_weights = [1.0, 1.0, 1.0, 1.0]\n",
    "        self.no_lsgan = \"store_true\"\n",
    "        self.ndf = 64\n",
    "        self.netD = 'basic'\n",
    "        self.n_layers_D = 3\n",
    "        self.pool_size = 50\n",
    "        self.lr = 0.0002\n",
    "        self.beta1 = 0.5"
   ]
  },
  {
   "cell_type": "code",
   "execution_count": 81,
   "metadata": {},
   "outputs": [],
   "source": [
    "model = CycleGANModel()\n",
    "o = opt()\n"
   ]
  },
  {
   "cell_type": "code",
   "execution_count": 82,
   "metadata": {},
   "outputs": [
    {
     "name": "stdout",
     "output_type": "stream",
     "text": [
      "initialize network with normal\n",
      "initialize network with normal\n",
      "initialize network with normal\n",
      "initialize network with normal\n"
     ]
    }
   ],
   "source": [
    "model.initialize(o)"
   ]
  },
  {
   "cell_type": "code",
   "execution_count": 85,
   "metadata": {},
   "outputs": [],
   "source": [
    "import pickle "
   ]
  },
  {
   "cell_type": "code",
   "execution_count": 89,
   "metadata": {},
   "outputs": [
    {
     "ename": "AttributeError",
     "evalue": "module 'pickle' has no attribute 'loada'",
     "output_type": "error",
     "traceback": [
      "\u001b[0;31m---------------------------------------------------------------------------\u001b[0m",
      "\u001b[0;31mAttributeError\u001b[0m                            Traceback (most recent call last)",
      "\u001b[0;32m<ipython-input-89-2dcd98cbbe44>\u001b[0m in \u001b[0;36m<module>\u001b[0;34m\u001b[0m\n\u001b[0;32m----> 1\u001b[0;31m \u001b[0mkmeans1\u001b[0m \u001b[0;34m=\u001b[0m \u001b[0mpickle\u001b[0m\u001b[0;34m.\u001b[0m\u001b[0mloada\u001b[0m\u001b[0;34m(\u001b[0m\u001b[0;34m\"kmeans_HE.sav\"\u001b[0m\u001b[0;34m)\u001b[0m\u001b[0;34m\u001b[0m\u001b[0;34m\u001b[0m\u001b[0m\n\u001b[0m",
      "\u001b[0;31mAttributeError\u001b[0m: module 'pickle' has no attribute 'loada'"
     ]
    }
   ],
   "source": [
    "kmeans1 = pickle.loada(\"kmeans_HE.sav\")"
   ]
  },
  {
   "cell_type": "code",
   "execution_count": null,
   "metadata": {},
   "outputs": [],
   "source": []
  }
 ],
 "metadata": {
  "kernelspec": {
   "display_name": "Python 3",
   "language": "python",
   "name": "python3"
  },
  "language_info": {
   "codemirror_mode": {
    "name": "ipython",
    "version": 3
   },
   "file_extension": ".py",
   "mimetype": "text/x-python",
   "name": "python",
   "nbconvert_exporter": "python",
   "pygments_lexer": "ipython3",
   "version": "3.7.6"
  }
 },
 "nbformat": 4,
 "nbformat_minor": 4
}
